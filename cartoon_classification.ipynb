{
 "cells": [
  {
   "cell_type": "code",
   "execution_count": 1,
   "metadata": {},
   "outputs": [
    {
     "name": "stdout",
     "output_type": "stream",
     "text": [
      "Collecting attr==0.3.2 (from -r requirements.txt (line 1))\n",
      "  Downloading attr-0.3.2-py2.py3-none-any.whl.metadata (1.2 kB)\n",
      "Collecting ConfigParser==7.0.0 (from -r requirements.txt (line 2))\n",
      "  Downloading configparser-7.0.0-py3-none-any.whl.metadata (5.4 kB)\n",
      "Collecting contextlib2==21.6.0 (from -r requirements.txt (line 3))\n",
      "  Downloading contextlib2-21.6.0-py2.py3-none-any.whl.metadata (4.1 kB)\n",
      "Collecting cryptography==42.0.8 (from -r requirements.txt (line 4))\n",
      "  Downloading cryptography-42.0.8-cp39-abi3-macosx_10_12_universal2.whl.metadata (5.3 kB)\n",
      "Collecting Cython==3.0.10 (from -r requirements.txt (line 5))\n",
      "  Downloading Cython-3.0.10-py2.py3-none-any.whl.metadata (3.2 kB)\n",
      "Collecting dl==0.1.0 (from -r requirements.txt (line 6))\n",
      "  Downloading dl-0.1.0.tar.gz (5.2 kB)\n",
      "  Preparing metadata (setup.py) ... \u001b[?25ldone\n",
      "\u001b[?25hCollecting docutils==0.21.2 (from -r requirements.txt (line 7))\n",
      "  Downloading docutils-0.21.2-py3-none-any.whl.metadata (2.8 kB)\n",
      "Collecting filelock==3.15.1 (from -r requirements.txt (line 8))\n",
      "  Downloading filelock-3.15.1-py3-none-any.whl.metadata (2.8 kB)\n",
      "Collecting HTMLParser==0.0.2 (from -r requirements.txt (line 9))\n",
      "  Downloading HTMLParser-0.0.2.tar.gz (6.0 kB)\n",
      "  Preparing metadata (setup.py) ... \u001b[?25ldone\n",
      "\u001b[?25hCollecting ipython==8.12.3 (from -r requirements.txt (line 10))\n",
      "  Using cached ipython-8.12.3-py3-none-any.whl.metadata (5.7 kB)\n",
      "Collecting ipywidgets==8.1.3 (from -r requirements.txt (line 11))\n",
      "  Downloading ipywidgets-8.1.3-py3-none-any.whl.metadata (2.4 kB)\n",
      "Collecting Jinja2==3.1.4 (from -r requirements.txt (line 12))\n",
      "  Using cached jinja2-3.1.4-py3-none-any.whl.metadata (2.6 kB)\n",
      "Collecting jnius==1.1.0 (from -r requirements.txt (line 13))\n",
      "  Downloading jnius-1.1.0.tar.gz (28 kB)\n",
      "  Preparing metadata (setup.py) ... \u001b[?25lerror\n",
      "  \u001b[1;31merror\u001b[0m: \u001b[1msubprocess-exited-with-error\u001b[0m\n",
      "  \n",
      "  \u001b[31m×\u001b[0m \u001b[32mpython setup.py egg_info\u001b[0m did not run successfully.\n",
      "  \u001b[31m│\u001b[0m exit code: \u001b[1;36m1\u001b[0m\n",
      "  \u001b[31m╰─>\u001b[0m \u001b[31m[11 lines of output]\u001b[0m\n",
      "  \u001b[31m   \u001b[0m \n",
      "  \u001b[31m   \u001b[0m \n",
      "  \u001b[31m   \u001b[0m You need Cython to compile Pyjnius.\n",
      "  \u001b[31m   \u001b[0m \n",
      "  \u001b[31m   \u001b[0m \n",
      "  \u001b[31m   \u001b[0m Traceback (most recent call last):\n",
      "  \u001b[31m   \u001b[0m   File \"<string>\", line 2, in <module>\n",
      "  \u001b[31m   \u001b[0m   File \"<pip-setuptools-caller>\", line 34, in <module>\n",
      "  \u001b[31m   \u001b[0m   File \"/private/var/folders/9k/rnh189dj1_95w5p98sc88vbh0000gn/T/pip-install-uty990r5/jnius_39a3f826731c46689ceb9ac10de00969/setup.py\", line 53, in <module>\n",
      "  \u001b[31m   \u001b[0m     from Cython.Distutils import build_ext\n",
      "  \u001b[31m   \u001b[0m ModuleNotFoundError: No module named 'Cython'\n",
      "  \u001b[31m   \u001b[0m \u001b[31m[end of output]\u001b[0m\n",
      "  \n",
      "  \u001b[1;35mnote\u001b[0m: This error originates from a subprocess, and is likely not a problem with pip.\n",
      "\u001b[?25h\u001b[1;31merror\u001b[0m: \u001b[1mmetadata-generation-failed\u001b[0m\n",
      "\n",
      "\u001b[31m×\u001b[0m Encountered error while generating package metadata.\n",
      "\u001b[31m╰─>\u001b[0m See above for output.\n",
      "\n",
      "\u001b[1;35mnote\u001b[0m: This is an issue with the package mentioned above, not pip.\n",
      "\u001b[1;36mhint\u001b[0m: See above for details.\n",
      "Note: you may need to restart the kernel to use updated packages.\n"
     ]
    }
   ],
   "source": [
    "pip install -r requirements.txt "
   ]
  },
  {
   "cell_type": "code",
   "execution_count": 10,
   "metadata": {},
   "outputs": [],
   "source": [
    "import subprocess\n",
    "from pathlib import Path\n",
    "import pandas as pd\n",
    "from tqdm import tqdm\n",
    "\n",
    "# Define paths\n",
    "dataset_path = Path(\"data/original_dataset\")\n",
    "classified_cartoon_path = Path(\"data/original_dataset_cartoon_only/images\")\n",
    "classified_photo_path = Path(\"data/original_dataset_photo_only/images\")\n",
    "\n",
    "# Function to run the classifier script\n",
    "def run_classifier(threshold=0.5):\n",
    "    cmd = [\n",
    "        \"python\", \"cartoon_classifier.py\",\n",
    "        str(dataset_path),\n",
    "        \"-t\", str(threshold)\n",
    "    ]\n",
    "    subprocess.run(cmd, check=True)\n",
    "\n",
    "# Function to check for missing labels\n",
    "def check_missing_labels(dataset_path, cartoon_path, photo_path):\n",
    "    # Collect all images and labels\n",
    "    images = list((dataset_path / \"images\").glob(\"**/*.jpg\"))\n",
    "    labels = list((dataset_path / \"labels\").glob(\"**/*.txt\"))\n",
    "    \n",
    "    image_names = {img.stem for img in images}\n",
    "    label_names = {lbl.stem for lbl in labels}\n",
    "    \n",
    "    missing_labels = image_names - label_names\n",
    "    missing_images = label_names - image_names\n",
    "    \n",
    "    if missing_labels:\n",
    "        print(f\"Warning: {len(missing_labels)} images are missing labels.\")\n",
    "    else:\n",
    "        print(\"All images have corresponding labels.\")\n",
    "    \n",
    "    if missing_images:\n",
    "        print(f\"Warning: {len(missing_images)} labels are missing images.\")\n",
    "    else:\n",
    "        print(\"All labels have corresponding images.\")\n",
    "    \n",
    "    return missing_labels, missing_images\n",
    "\n",
    "# Function to check classified results\n",
    "def check_classified_results(cartoon_path, photo_path):\n",
    "    classified_cartoon_images = list(cartoon_path.glob(\"**/*.jpg\"))\n",
    "    classified_photo_images = list(photo_path.glob(\"**/*.jpg\"))\n",
    "    \n",
    "    print(f\"Total classified cartoon images: {len(classified_cartoon_images)}\")\n",
    "    print(f\"Total classified photo images: {len(classified_photo_images)}\")\n",
    "    \n",
    "    return classified_cartoon_images, classified_photo_images\n",
    "\n",
    "\n"
   ]
  },
  {
   "cell_type": "code",
   "execution_count": 11,
   "metadata": {},
   "outputs": [
    {
     "name": "stderr",
     "output_type": "stream",
     "text": [
      "Traceback (most recent call last):\n",
      "  File \"/Users/johanbarreiro/Documents/GitHub/DL/cartoon_classifier.py\", line 5, in <module>\n",
      "    from tensorflow.keras.applications.resnet50 import ResNet50, preprocess_input, decode_predictions\n",
      "ModuleNotFoundError: No module named 'tensorflow'\n"
     ]
    },
    {
     "ename": "CalledProcessError",
     "evalue": "Command '['python', 'cartoon_classifier.py', 'data/original_dataset', '-t', '0.3']' returned non-zero exit status 1.",
     "output_type": "error",
     "traceback": [
      "\u001b[0;31m---------------------------------------------------------------------------\u001b[0m",
      "\u001b[0;31mCalledProcessError\u001b[0m                        Traceback (most recent call last)",
      "Cell \u001b[0;32mIn[11], line 2\u001b[0m\n\u001b[1;32m      1\u001b[0m \u001b[38;5;66;03m# Run the classifier script\u001b[39;00m\n\u001b[0;32m----> 2\u001b[0m \u001b[43mrun_classifier\u001b[49m\u001b[43m(\u001b[49m\u001b[43mthreshold\u001b[49m\u001b[38;5;241;43m=\u001b[39;49m\u001b[38;5;241;43m0.3\u001b[39;49m\u001b[43m)\u001b[49m\n",
      "Cell \u001b[0;32mIn[10], line 18\u001b[0m, in \u001b[0;36mrun_classifier\u001b[0;34m(threshold)\u001b[0m\n\u001b[1;32m     12\u001b[0m \u001b[38;5;28;01mdef\u001b[39;00m \u001b[38;5;21mrun_classifier\u001b[39m(threshold\u001b[38;5;241m=\u001b[39m\u001b[38;5;241m0.5\u001b[39m):\n\u001b[1;32m     13\u001b[0m     cmd \u001b[38;5;241m=\u001b[39m [\n\u001b[1;32m     14\u001b[0m         \u001b[38;5;124m\"\u001b[39m\u001b[38;5;124mpython\u001b[39m\u001b[38;5;124m\"\u001b[39m, \u001b[38;5;124m\"\u001b[39m\u001b[38;5;124mcartoon_classifier.py\u001b[39m\u001b[38;5;124m\"\u001b[39m,\n\u001b[1;32m     15\u001b[0m         \u001b[38;5;28mstr\u001b[39m(dataset_path),\n\u001b[1;32m     16\u001b[0m         \u001b[38;5;124m\"\u001b[39m\u001b[38;5;124m-t\u001b[39m\u001b[38;5;124m\"\u001b[39m, \u001b[38;5;28mstr\u001b[39m(threshold)\n\u001b[1;32m     17\u001b[0m     ]\n\u001b[0;32m---> 18\u001b[0m     \u001b[43msubprocess\u001b[49m\u001b[38;5;241;43m.\u001b[39;49m\u001b[43mrun\u001b[49m\u001b[43m(\u001b[49m\u001b[43mcmd\u001b[49m\u001b[43m,\u001b[49m\u001b[43m \u001b[49m\u001b[43mcheck\u001b[49m\u001b[38;5;241;43m=\u001b[39;49m\u001b[38;5;28;43;01mTrue\u001b[39;49;00m\u001b[43m)\u001b[49m\n",
      "File \u001b[0;32m~/anaconda3/envs/DL/lib/python3.11/subprocess.py:571\u001b[0m, in \u001b[0;36mrun\u001b[0;34m(input, capture_output, timeout, check, *popenargs, **kwargs)\u001b[0m\n\u001b[1;32m    569\u001b[0m     retcode \u001b[38;5;241m=\u001b[39m process\u001b[38;5;241m.\u001b[39mpoll()\n\u001b[1;32m    570\u001b[0m     \u001b[38;5;28;01mif\u001b[39;00m check \u001b[38;5;129;01mand\u001b[39;00m retcode:\n\u001b[0;32m--> 571\u001b[0m         \u001b[38;5;28;01mraise\u001b[39;00m CalledProcessError(retcode, process\u001b[38;5;241m.\u001b[39margs,\n\u001b[1;32m    572\u001b[0m                                  output\u001b[38;5;241m=\u001b[39mstdout, stderr\u001b[38;5;241m=\u001b[39mstderr)\n\u001b[1;32m    573\u001b[0m \u001b[38;5;28;01mreturn\u001b[39;00m CompletedProcess(process\u001b[38;5;241m.\u001b[39margs, retcode, stdout, stderr)\n",
      "\u001b[0;31mCalledProcessError\u001b[0m: Command '['python', 'cartoon_classifier.py', 'data/original_dataset', '-t', '0.3']' returned non-zero exit status 1."
     ]
    }
   ],
   "source": [
    "# Run the classifier script\n",
    "run_classifier(threshold=0.3)"
   ]
  },
  {
   "cell_type": "code",
   "execution_count": 13,
   "metadata": {},
   "outputs": [
    {
     "name": "stdout",
     "output_type": "stream",
     "text": [
      "Warning: 1112 images are missing labels.\n",
      "All labels have corresponding images.\n",
      "Total classified cartoon images: 12\n",
      "Total classified photo images: 2398\n"
     ]
    },
    {
     "data": {
      "text/plain": [
       "set()"
      ]
     },
     "execution_count": 13,
     "metadata": {},
     "output_type": "execute_result"
    }
   ],
   "source": [
    "# Check for missing labels\n",
    "missing_labels, missing_images = check_missing_labels(dataset_path, classified_cartoon_path, classified_photo_path)\n",
    "\n",
    "# Check classified results\n",
    "classified_cartoon_images, classified_photo_images = check_classified_results(classified_cartoon_path, classified_photo_path)\n",
    "\n",
    "# Display results\n",
    "missing_labels\n",
    "missing_images"
   ]
  }
 ],
 "metadata": {
  "kernelspec": {
   "display_name": "DL",
   "language": "python",
   "name": "python3"
  },
  "language_info": {
   "codemirror_mode": {
    "name": "ipython",
    "version": 3
   },
   "file_extension": ".py",
   "mimetype": "text/x-python",
   "name": "python",
   "nbconvert_exporter": "python",
   "pygments_lexer": "ipython3",
   "version": "3.11.9"
  }
 },
 "nbformat": 4,
 "nbformat_minor": 2
}
